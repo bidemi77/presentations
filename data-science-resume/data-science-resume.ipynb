{
 "cells": [
  {
   "cell_type": "markdown",
   "metadata": {
    "slideshow": {
     "slide_type": "slide"
    }
   },
   "source": [
    "# Landing a data science job\n",
    "Norfolk data science  \n",
    "@josibake"
   ]
  },
  {
   "cell_type": "markdown",
   "metadata": {
    "slideshow": {
     "slide_type": "slide"
    }
   },
   "source": [
    "# What makes data science different?\n",
    "\n",
    "* A young discipline \n",
    "* Varies by industry, geography\n",
    "* Variety of backgrounds\n",
    "* Variety of specializations"
   ]
  },
  {
   "cell_type": "markdown",
   "metadata": {
    "slideshow": {
     "slide_type": "slide"
    }
   },
   "source": [
    "# Intersection of different skillsets\n",
    "\n",
    "* Business\n",
    "* Computer science\n",
    "* Mathematics"
   ]
  },
  {
   "cell_type": "markdown",
   "metadata": {
    "slideshow": {
     "slide_type": "slide"
    }
   },
   "source": [
    "## Play to your strengths!\n",
    "\n",
    "* Highlight unique experiences in your background\n",
    "* Soft skills play a big role!\n",
    "* Ability to learn"
   ]
  },
  {
   "cell_type": "markdown",
   "metadata": {
    "slideshow": {
     "slide_type": "slide"
    }
   },
   "source": [
    "# Have an online presence\n",
    "\n",
    "* Personal website \n",
    "* Stack overflow\n",
    "* Twitter\n",
    "* Github.com\n",
    "* Use consistent naming"
   ]
  },
  {
   "cell_type": "markdown",
   "metadata": {
    "slideshow": {
     "slide_type": "slide"
    }
   },
   "source": [
    "# Get involved!\n",
    "\n",
    "* Data science is driven by open source\n",
    "* Rich community \n",
    "* Make friends!"
   ]
  },
  {
   "cell_type": "markdown",
   "metadata": {
    "slideshow": {
     "slide_type": "slide"
    }
   },
   "source": [
    "# Making a personal website\n",
    "\n",
    "* Little to no code\n",
    "* Free hosting with github.io\n",
    "* Fully customizable"
   ]
  },
  {
   "cell_type": "markdown",
   "metadata": {
    "slideshow": {
     "slide_type": "slide"
    }
   },
   "source": [
    "## Create a repo \n",
    "\n",
    "* Create a repo under your personal account `username.github.io`\n",
    "\n",
    "![create repo](img/create_repo.png)"
   ]
  },
  {
   "cell_type": "markdown",
   "metadata": {
    "slideshow": {
     "slide_type": "slide"
    }
   },
   "source": [
    "## Choose a theme\n",
    "\n",
    "* Check your settings, add a custom url, and choose a theme\n",
    "\n",
    "![choose theme](img/theme.png)\n"
   ]
  },
  {
   "cell_type": "markdown",
   "metadata": {
    "collapsed": false,
    "slideshow": {
     "slide_type": "slide"
    }
   },
   "source": [
    "## Choose theme\n",
    "\n",
    "* Select and install a theme from the themes page\n",
    "* This installs the theme and commits to your repo\n",
    "\n",
    "![choose theme](img/choose_theme.png)"
   ]
  },
  {
   "cell_type": "markdown",
   "metadata": {
    "collapsed": false,
    "slideshow": {
     "slide_type": "slide"
    }
   },
   "source": [
    "## Add content\n",
    "\n",
    "* Adding content is as easy as editing the README.md file\n",
    "* This can be down all in the browser\n",
    "* Commit and wait a few minutes for the website to publish\n",
    "\n",
    "![add content](img/edit_readme.png)"
   ]
  },
  {
   "cell_type": "markdown",
   "metadata": {
    "collapsed": false,
    "slideshow": {
     "slide_type": "slide"
    }
   },
   "source": [
    "## Next steps\n",
    "\n",
    "* Use a static generator\n",
    "     - [Jekyll](https://help.github.com/articles/using-jekyll-as-a-static-site-generator-with-github-pages/)\n",
    "     - [Hugo](https://gohugo.io/tutorials/github-pages-blog/)\n",
    "* Edit a theme \n",
    "* Write your own custom site\n",
    "* Add a personal domain name"
   ]
  },
  {
   "cell_type": "markdown",
   "metadata": {
    "slideshow": {
     "slide_type": "slide"
    }
   },
   "source": [
    "## Buying a domain\n",
    "\n",
    "* Buy a domain at [domains.google.com](https://domains.google.com)\n",
    "\n",
    "![domains](img/buy.png)"
   ]
  },
  {
   "cell_type": "markdown",
   "metadata": {
    "slideshow": {
     "slide_type": "slide"
    }
   },
   "source": [
    "## Configure your domain\n",
    "\n",
    "* Associate your new domain with your `username.github.io` website\n",
    "* Make sure to set up APEX (root) and WWW (subdomain)\n",
    "\n",
    "![domain urls](img/configure.png)"
   ]
  },
  {
   "cell_type": "markdown",
   "metadata": {
    "slideshow": {
     "slide_type": "slide"
    }
   },
   "source": [
    "# Crafting the perfect resume\n",
    "\n",
    "* Tell a targeted story\n",
    "    - Your resume should start with a conversational elevator pitch\n",
    "* Relate everything else back to that story\n",
    "    - Your resume should flesh out the details of your opening story\n",
    "    - Don't include things not related to your story\n",
    "* Keep it simple!\n",
    "    - Your resume should fit on one page\n",
    "    - Simple, concise, to the point\n",
    "    - Add more details on your personal website"
   ]
  },
  {
   "cell_type": "markdown",
   "metadata": {
    "slideshow": {
     "slide_type": "slide"
    }
   },
   "source": [
    "## Listing skills on your resume\n",
    "\n",
    "* **DONT**\n",
    "    - Give a list of buzzwords\n",
    "    - List technologies you don't _hands on_ experience with\n",
    "    \n",
    "* **DO**\n",
    "    - Give examples of how you used the technology\n",
    "    - Only list things relevant to the job you are trying to get"
   ]
  },
  {
   "cell_type": "markdown",
   "metadata": {
    "slideshow": {
     "slide_type": "slide"
    }
   },
   "source": [
    "## Example\n",
    "\n",
    "> * Experience with Python, R, Scala\n",
    "> * Worked with RDBS, NoSQL, Hadoop, AWS Cloud database technology\n",
    "\n",
    "VS.\n",
    "\n",
    "> * Wrote Python and R scripts for automating monthly reports and KPI's\n",
    "> * Created internal dashboards using R shiny apps\n",
    "> * Analyzed user behavior on website using Scala and Spark in AWS\n"
   ]
  },
  {
   "cell_type": "markdown",
   "metadata": {
    "slideshow": {
     "slide_type": "slide"
    }
   },
   "source": [
    "## Pro-tip:\n",
    "\n",
    "* For every technical skill you list on your resume:\n",
    "    - Have an example of how you used it in your current job\n",
    "    - Focus on what you used it for\n",
    "* No job experience?\n",
    "    - Personal projects count as job experience!\n",
    "    - Have toy examples on your github for every technical skill you list\n"
   ]
  },
  {
   "cell_type": "markdown",
   "metadata": {
    "slideshow": {
     "slide_type": "slide"
    }
   },
   "source": [
    "## Build your soft skills\n",
    "\n",
    "* Give examples of public speaking\n",
    "* Community involvement \n",
    "* Presentations (NFDS!)\n",
    "* Open source contributions\n",
    "* Show that you are active!"
   ]
  },
  {
   "cell_type": "markdown",
   "metadata": {
    "slideshow": {
     "slide_type": "slide"
    }
   },
   "source": [
    "## Network, network, network\n",
    "\n",
    "* Go to conferences\n",
    "* Join online slack groups\n",
    "* Contribute to the open source community"
   ]
  },
  {
   "cell_type": "markdown",
   "metadata": {
    "slideshow": {
     "slide_type": "slide"
    }
   },
   "source": [
    "## Document it all on twitter!\n",
    "\n",
    "* Follow other data scientists on twitter\n",
    "* Share professional content\n",
    "* Twitter blog conferences\n",
    "* Use twitter/personal site as a business card"
   ]
  },
  {
   "cell_type": "markdown",
   "metadata": {
    "collapsed": true,
    "slideshow": {
     "slide_type": "slide"
    }
   },
   "source": [
    "## Questions?\n"
   ]
  }
 ],
 "metadata": {
  "celltoolbar": "Slideshow",
  "hide_input": false,
  "kernelspec": {
   "display_name": "Python 2",
   "language": "python",
   "name": "python2"
  },
  "language_info": {
   "codemirror_mode": {
    "name": "ipython",
    "version": 2
   },
   "file_extension": ".py",
   "mimetype": "text/x-python",
   "name": "python",
   "nbconvert_exporter": "python",
   "pygments_lexer": "ipython2",
   "version": "2.7.13"
  }
 },
 "nbformat": 4,
 "nbformat_minor": 0
}
