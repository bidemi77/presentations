{
 "cells": [
  {
   "cell_type": "markdown",
   "metadata": {
    "slideshow": {
     "slide_type": "slide"
    }
   },
   "source": [
    "# R NYC Conference\n",
    "Norfolk data science  \n",
    "@josibake"
   ]
  },
  {
   "cell_type": "markdown",
   "metadata": {
    "slideshow": {
     "slide_type": "slide"
    }
   },
   "source": [
    "# What is R NYC?\n",
    "\n",
    "* Annual R conference hosted by\n",
    "    - [Lander Analytics](https://www.landeranalytics.com/) - Author of \"R for Everyone\"\n",
    "    - [WorkBench](http://www.work-bench.com/) - Enterprise focused venture capital fund\n",
    "    - Also run the [R NYC meetup](https://www.meetup.com/nyhackr/)\n",
    "\n"
   ]
  },
  {
   "cell_type": "markdown",
   "metadata": {
    "slideshow": {
     "slide_type": "slide"
    }
   },
   "source": [
    "## What was I doing there??\n",
    "\n",
    "* Great price! \n",
    "* Great speakers\n",
    "* And of course.. "
   ]
  },
  {
   "cell_type": "markdown",
   "metadata": {
    "slideshow": {
     "slide_type": "slide"
    }
   },
   "source": [
    "![GUI Installer](img/1200px-I_Love_New_York.svg.png)"
   ]
  },
  {
   "cell_type": "markdown",
   "metadata": {
    "slideshow": {
     "slide_type": "slide"
    }
   },
   "source": [
    "## Speakers\n",
    "\n",
    "[Speakers](http://www.rstats.nyc/speakers) I was going to see:\n",
    "\n",
    "* Wes McKinney - Pandas author\n",
    "* Andrew Gelman - Statistician\n",
    "* David Robinson - Data scientist, StackOverflow\n",
    "* Dan Whitenack - Data scientist, Pachyderm\n",
    "* Ricardo Bion - Data science manager, Airbnb"
   ]
  },
  {
   "cell_type": "markdown",
   "metadata": {
    "slideshow": {
     "slide_type": "slide"
    }
   },
   "source": [
    "## Speakers I enjoyed most\n",
    "\n",
    "* JD Long - Agricultural economist\n",
    "* Friederike Schüür - Research scientist, Fast Forward Labs\n",
    "* Sandy Griffith - Data scientist, Flatiron Health"
   ]
  },
  {
   "cell_type": "markdown",
   "metadata": {
    "slideshow": {
     "slide_type": "slide"
    }
   },
   "source": [
    "## Where is R being used?\n",
    "\n",
    "* Facebook - you know..\n",
    "* JetBlue\n",
    "* Bidalgo \n",
    "* ATT Bell labs\n",
    "* StackOverflow"
   ]
  },
  {
   "cell_type": "markdown",
   "metadata": {
    "slideshow": {
     "slide_type": "slide"
    }
   },
   "source": [
    "## Things that were R\n",
    "\n",
    "* Get to know the R-Studio IDE\n",
    "* Enabling productivity by moving from Excel to R\n",
    "* Notabale R packages\n",
    "    - [rthreejs](https://bwlewis.github.io/rthreejs/)\n",
    "    - [tidytext](http://tidytextmining.com/)\n"
   ]
  },
  {
   "cell_type": "markdown",
   "metadata": {
    "collapsed": false,
    "slideshow": {
     "slide_type": "slide"
    }
   },
   "source": [
    "## Things that were data science\n",
    "\n",
    "* Having Empathy (JD Long)\n",
    "    - Understanding the near vs the far\n",
    "    - Effectively communicating with a human audience\n",
    "    - Practicing active listening\n",
    "* Systematizing our process (Andrew Gelman)\n",
    "    - Studying and formalizing our process\n",
    "* Data science and the agile process (Friederike Schüür)\n",
    "    - Tension between software development and data science\n",
    "    - Discovery vs creating\n",
    "    - Staying in tune with the needs of the business"
   ]
  },
  {
   "cell_type": "markdown",
   "metadata": {
    "collapsed": false,
    "slideshow": {
     "slide_type": "slide"
    }
   },
   "source": [
    "## How to's\n",
    "\n",
    "* Setting up a data science workspace\n",
    "    - git \n",
    "    - bash\n",
    "    - project templates\n",
    "    - make\n",
    "    \n",
    "* How to contribute to Open Source and why\n",
    "    - Data science is community driven\n",
    "    - It's what employers are looking for\n",
    "    - Contributing to the docs is still contributing!\n",
    "    - Create reproducible bug reports\n",
    "* How to tweet a conference\n",
    "    - @ the conference or speaker\n",
    "    - Use the #hashtag\n",
    "    - Photos!"
   ]
  },
  {
   "cell_type": "markdown",
   "metadata": {
    "collapsed": false,
    "slideshow": {
     "slide_type": "slide"
    }
   },
   "source": [
    "## Things that weren't R at all\n",
    "\n",
    "* Upcoming security legislation on data\n",
    "    - Your data is yours and subject to the same rights\n",
    "    - How to better anonymize data\n",
    "* Wes McKinney!\n",
    "    - Apache Arrow\n",
    "    - Interoperable dataframes \n",
    "    - Zero-copy in memory data structures"
   ]
  },
  {
   "cell_type": "markdown",
   "metadata": {
    "slideshow": {
     "slide_type": "slide"
    }
   },
   "source": [
    "## My observations \n",
    "\n",
    "* R is a close \"Knitr\" community\n",
    "* R users like to drink\n",
    "* Very humanitarian focused\n",
    "* Less focus on technology and infrastructure\n",
    "* Very hands on"
   ]
  },
  {
   "cell_type": "markdown",
   "metadata": {
    "slideshow": {
     "slide_type": "slide"
    }
   },
   "source": [
    "## Takeaways\n",
    "\n",
    "* Go to conferences!\n",
    "* Get involved with open source\n",
    "    - Write your own packages!\n",
    "    - Contriute to packages you use\n",
    "* R, Python, data science etc, don't have to be your day job for you to get involved"
   ]
  },
  {
   "cell_type": "markdown",
   "metadata": {
    "slideshow": {
     "slide_type": "slide"
    }
   },
   "source": [
    "## Questions"
   ]
  }
 ],
 "metadata": {
  "celltoolbar": "Slideshow",
  "hide_input": false,
  "kernelspec": {
   "display_name": "Python 3",
   "language": "python",
   "name": "python3"
  },
  "language_info": {
   "codemirror_mode": {
    "name": "ipython",
    "version": 3
   },
   "file_extension": ".py",
   "mimetype": "text/x-python",
   "name": "python",
   "nbconvert_exporter": "python",
   "pygments_lexer": "ipython3",
   "version": "3.6.0"
  }
 },
 "nbformat": 4,
 "nbformat_minor": 0
}
