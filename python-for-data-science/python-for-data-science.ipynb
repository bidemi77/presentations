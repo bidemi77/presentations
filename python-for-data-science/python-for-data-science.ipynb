{
 "cells": [
  {
   "cell_type": "markdown",
   "metadata": {
    "slideshow": {
     "slide_type": "slide"
    }
   },
   "source": [
    "# Python for data science \n",
    "Dominion Data Science"
   ]
  },
  {
   "cell_type": "markdown",
   "metadata": {
    "slideshow": {
     "slide_type": "slide"
    }
   },
   "source": [
    "# Getting started\n",
    "\n",
    "* Install [Anaconda](https://www.continuum.io/downloads)\n",
    "    - Anaconda is the go to \"data science distribution\" for python \n",
    "    - Comes pre-loaded with numpy, pandas, sklearn and others\n",
    "    - Includes additional tools such as jupyter notebooks\n",
    "\n"
   ]
  },
  {
   "cell_type": "markdown",
   "metadata": {
    "slideshow": {
     "slide_type": "slide"
    }
   },
   "source": [
    "## Mac OSX\n",
    "If you have brew, go to terminal and run  \n",
    "\n",
    "    brew cask install Caskroom/cask/anaconda\n",
    "You might also need to add anaconda/bin to your `PATH` env variable  \n",
    "This is in the `.bash_profile` file  \n",
    "\n",
    " - Open `~/.bash_profile` in your favorite text editor  \n",
    "       vi ~/.bash_profile  \n",
    " - Add the following line    \n",
    "       export PATH=~/anaconda3/bin:\"&#36;PATH\"  \n",
    " - Test your install by running python \n",
    " \n",
    "You should see something like  \n",
    "\n",
    "    Python 3.5.2 |Anaconda 4.2.0 (x86_64)| (default, Jul  2 2016, 17:52:12)\n",
    "If not, confirm that your `.bash_profile` has been updated and and restart terminal"
   ]
  },
  {
   "cell_type": "markdown",
   "metadata": {
    "slideshow": {
     "slide_type": "slide"
    }
   },
   "source": [
    "## Windows\n",
    "Head over to [https://www.continuum.io/downloads](https://www.continuum.io/downloads) and use the GUI downloader  \n",
    "![GUI Installer](img/install_windows.png)\n",
    "\n",
    "Run the executable and follow the instructions. We can also set a `PATH` variable to make python easier to use"
   ]
  },
  {
   "cell_type": "markdown",
   "metadata": {
    "slideshow": {
     "slide_type": "slide"
    }
   },
   "source": [
    "## Windows cont.\n",
    "* On XP, right click `My Computer -> Properties` and navigate to the `System Properties -> Advanced` tab\n",
    "<img src=\"img/system_properties.png\" alt=\"System properties\" width=\"40%\" style=\"float: right\"/>\n",
    "* Copy the following into the end of the `PATH` variable  \n",
    "      ;%PYTHON_HOME%\\;%PYTHON_HOME%\\Scripts\n",
    "* Test your install by opening a command prompt and running  \n",
    "      C:\\Users\\Username>python\n",
    "* On Windows 7 and up, search for \"environment variables\" and follow the same steps"
   ]
  },
  {
   "cell_type": "markdown",
   "metadata": {
    "slideshow": {
     "slide_type": "slide"
    }
   },
   "source": [
    "# Getting additional packages\n",
    "Anaconda comes with two ways to manage packages: `pip` and `conda`. Using these will..\n",
    "* Insure your packages install correctly\n",
    "* Allow you to easily upgrade and uninstall packages\n",
    "* Manage dependencies when install\n",
    "\n",
    "### Mac\n",
    "    pip install/uninstall <package> [--upgrade] \n",
    "Or.. \n",
    "\n",
    "    conda install/uninstall <package>  \n",
    "Pip is also useful for other things. Example: `pip freeze` will give you the version of everything you currently have installed.\n",
    "### Windows\n",
    "`pip` can also be used on Windows if you properly set up your `ENV` variable during installation. You can also run it from within `git bash` or `cygwin` if you have those installed."
   ]
  },
  {
   "cell_type": "markdown",
   "metadata": {
    "slideshow": {
     "slide_type": "slide"
    }
   },
   "source": [
    "# Running python"
   ]
  },
  {
   "cell_type": "code",
   "execution_count": 1,
   "metadata": {
    "collapsed": false,
    "slideshow": {
     "slide_type": "-"
    }
   },
   "outputs": [
    {
     "name": "stdout",
     "output_type": "stream",
     "text": [
      "Hello, World!\n"
     ]
    }
   ],
   "source": [
    "greeting = \"Hello, \"\n",
    "here = \"World!\"\n",
    "\n",
    "print greeting + here"
   ]
  },
  {
   "cell_type": "code",
   "execution_count": 1,
   "metadata": {
    "collapsed": false,
    "slideshow": {
     "slide_type": "-"
    }
   },
   "outputs": [
    {
     "name": "stdout",
     "output_type": "stream",
     "text": [
      "aa\n",
      "bb\n",
      "cc\n"
     ]
    }
   ],
   "source": [
    "letters = [\"a\", \"b\", \"c\"]\n",
    "for letter in letters:\n",
    "    print letter + letter"
   ]
  },
  {
   "cell_type": "code",
   "execution_count": 3,
   "metadata": {
    "collapsed": false,
    "slideshow": {
     "slide_type": "-"
    }
   },
   "outputs": [
    {
     "name": "stdout",
     "output_type": "stream",
     "text": [
      "0\n",
      "1\n",
      "4\n",
      "9\n",
      "16\n"
     ]
    }
   ],
   "source": [
    "def mySuperCoolFunction(i):\n",
    "    return i*i\n",
    "\n",
    "for j in range(5):\n",
    "    print mySuperCoolFunction(j)"
   ]
  },
  {
   "cell_type": "markdown",
   "metadata": {
    "slideshow": {
     "slide_type": "slide"
    }
   },
   "source": [
    "# Running scripts\n",
    "\n",
    "    python hello_world.py"
   ]
  },
  {
   "cell_type": "code",
   "execution_count": 4,
   "metadata": {
    "collapsed": false,
    "slideshow": {
     "slide_type": "-"
    }
   },
   "outputs": [
    {
     "name": "stdout",
     "output_type": "stream",
     "text": [
      "Hello, World!\n"
     ]
    }
   ],
   "source": [
    "# my super awesome script\n",
    "\n",
    "greeting = \"Hello, \"\n",
    "location = \"World!\"\n",
    "\n",
    "print greeting + location"
   ]
  },
  {
   "cell_type": "markdown",
   "metadata": {
    "slideshow": {
     "slide_type": "slide"
    }
   },
   "source": [
    "# Importing libraries"
   ]
  },
  {
   "cell_type": "code",
   "execution_count": 5,
   "metadata": {
    "collapsed": false,
    "slideshow": {
     "slide_type": "-"
    }
   },
   "outputs": [
    {
     "ename": "ImportError",
     "evalue": "No module named tweepy",
     "output_type": "error",
     "traceback": [
      "\u001b[0;31m---------------------------------------------------------------------------\u001b[0m",
      "\u001b[0;31mImportError\u001b[0m                               Traceback (most recent call last)",
      "\u001b[0;32m<ipython-input-5-d61bc88effe7>\u001b[0m in \u001b[0;36m<module>\u001b[0;34m()\u001b[0m\n\u001b[1;32m      2\u001b[0m \u001b[0;32mimport\u001b[0m \u001b[0mnumpy\u001b[0m \u001b[0;32mas\u001b[0m \u001b[0mnp\u001b[0m\u001b[0;34m\u001b[0m\u001b[0m\n\u001b[1;32m      3\u001b[0m \u001b[0;32mfrom\u001b[0m \u001b[0msklearn\u001b[0m \u001b[0;32mimport\u001b[0m \u001b[0mdatasets\u001b[0m\u001b[0;34m,\u001b[0m \u001b[0mlinear_model\u001b[0m\u001b[0;34m\u001b[0m\u001b[0m\n\u001b[0;32m----> 4\u001b[0;31m \u001b[0;32mimport\u001b[0m \u001b[0mtweepy\u001b[0m\u001b[0;34m\u001b[0m\u001b[0m\n\u001b[0m",
      "\u001b[0;31mImportError\u001b[0m: No module named tweepy"
     ]
    }
   ],
   "source": [
    "import pandas as pd\n",
    "import numpy as np\n",
    "from sklearn import datasets, linear_model\n",
    "import tweepy"
   ]
  },
  {
   "cell_type": "markdown",
   "metadata": {
    "slideshow": {
     "slide_type": "-"
    }
   },
   "source": [
    "    pip install tweepy"
   ]
  },
  {
   "cell_type": "code",
   "execution_count": null,
   "metadata": {
    "collapsed": true
   },
   "outputs": [],
   "source": [
    "import tweepy"
   ]
  },
  {
   "cell_type": "markdown",
   "metadata": {
    "slideshow": {
     "slide_type": "slide"
    }
   },
   "source": [
    "# Jupyter qtconsole\n",
    "\n",
    "    jupyter qtconsole\n",
    "    \n",
    "* Allows for faster, easier interactive programming\n",
    "* Graphics can be displayed inline \n",
    "* Tab completion\n",
    "* Outputs can be saved to file "
   ]
  },
  {
   "cell_type": "markdown",
   "metadata": {
    "slideshow": {
     "slide_type": "slide"
    }
   },
   "source": [
    "# Jupyter notebook\n",
    "    jupyter notebook\n",
    "\n",
    "* Allows for interactive, iterative code development\n",
    "* Keeps analysis, code, and visuals all together\n",
    "* Easy to package up project to share and present\n",
    "* Support multiple languages (R, Python, Julia, Go, Scala..)\n"
   ]
  },
  {
   "cell_type": "markdown",
   "metadata": {
    "slideshow": {
     "slide_type": "slide"
    }
   },
   "source": [
    "# Adventure Works"
   ]
  },
  {
   "cell_type": "code",
   "execution_count": 8,
   "metadata": {
    "collapsed": true,
    "slideshow": {
     "slide_type": "-"
    }
   },
   "outputs": [],
   "source": [
    "import pandas as pd\n",
    "\n",
    "aw_excel = pd.read_excel(\"adventureworks.xls\")\n",
    "aw_csv = pd.read_csv(\"adventureworks.csv\")"
   ]
  },
  {
   "cell_type": "code",
   "execution_count": 9,
   "metadata": {
    "collapsed": false,
    "slideshow": {
     "slide_type": "skip"
    }
   },
   "outputs": [],
   "source": [
    "import psycopg2 as psql\n",
    "\n",
    "connection = psql.connect(host=\"ec2-23-21-219-105.compute-1.amazonaws.com\", \n",
    "                     user=\"dcppkvqqofzvbp\", \n",
    "                     password=\"12709a63bbb19e91b950008dab2d0301df1d48a6853d43cdf43964fcc863b6db\", \n",
    "                     dbname=\"d6bkkvg5ahrfdo\")"
   ]
  },
  {
   "cell_type": "code",
   "execution_count": null,
   "metadata": {
    "collapsed": true,
    "slideshow": {
     "slide_type": "slide"
    }
   },
   "outputs": [],
   "source": [
    "import psycopg2 as psql\n",
    "\n",
    "connection = psql.connect(host=\"host\", \n",
    "                     user=\"user\", \n",
    "                     password=\"psw\", \n",
    "                     dbname=\"database\")"
   ]
  },
  {
   "cell_type": "code",
   "execution_count": 10,
   "metadata": {
    "collapsed": true,
    "slideshow": {
     "slide_type": "-"
    }
   },
   "outputs": [],
   "source": [
    "queryText = \"\"\"\n",
    "SELECT   TO_CHAR(th.transactiondate, 'YYYY-MM') AS month\n",
    "       , p.name\n",
    "       , COUNT(*) AS total\n",
    "FROM production.transactionhistory th\n",
    "INNER JOIN production.product p\n",
    "  ON th.productid = p.productid\n",
    "WHERE DATE_PART('year', transactiondate) = '2014'\n",
    "GROUP BY TO_CHAR(th.transactiondate, 'YYYY-MM'), p.name\n",
    ";\n",
    "\"\"\"\n",
    "aw_db = pd.read_sql(queryText, connection)"
   ]
  },
  {
   "cell_type": "markdown",
   "metadata": {
    "slideshow": {
     "slide_type": "slide"
    }
   },
   "source": [
    "## Even better.. let's make a reusable function!"
   ]
  },
  {
   "cell_type": "code",
   "execution_count": 11,
   "metadata": {
    "collapsed": true,
    "slideshow": {
     "slide_type": "-"
    }
   },
   "outputs": [],
   "source": [
    "# this can be re-used with an query and any connection\n",
    "\n",
    "def query(dbconn, script):\n",
    "        with open(script,'r') as sql:\n",
    "            query = sql.read()\n",
    "        data = pd.read_sql(query, dbconn)\n",
    "        return data\n",
    "    \n",
    "aw_db = query(connection, \"queries/adventureworks.sql\")"
   ]
  },
  {
   "cell_type": "markdown",
   "metadata": {
    "slideshow": {
     "slide_type": "slide"
    }
   },
   "source": [
    "# Exploring data\n",
    "Its much easier now! Data from different sources is now in the same format with the same standard toolset    \n",
    "This makes analysis easier to re-use and standardize"
   ]
  },
  {
   "cell_type": "code",
   "execution_count": 21,
   "metadata": {
    "collapsed": false
   },
   "outputs": [
    {
     "name": "stdout",
     "output_type": "stream",
     "text": [
      "Columns: month | name | total\n",
      "Summary statistics \n",
      "\n",
      "            total\n",
      "count  2758.00000\n",
      "mean     21.26831\n",
      "std      40.41921\n",
      "min       1.00000\n",
      "25%       2.00000\n",
      "50%       5.00000\n",
      "75%      28.00000\n",
      "max     488.00000\n"
     ]
    }
   ],
   "source": [
    "def explore(dataset):\n",
    "    print \"Columns: \" + \" | \".join(dataset.columns)\n",
    "    print \"Summary statistics \\n\"\n",
    "    print dataset.describe()\n",
    "\n",
    "explore(aw_db)"
   ]
  },
  {
   "cell_type": "markdown",
   "metadata": {
    "slideshow": {
     "slide_type": "slide"
    }
   },
   "source": [
    "# Panda panda pandas \n",
    "Pandas comes with great, out of the box support for data analysis"
   ]
  },
  {
   "cell_type": "code",
   "execution_count": 22,
   "metadata": {
    "collapsed": false
   },
   "outputs": [
    {
     "data": {
      "image/png": "[encoded data removed]",
      "text/plain": [
       "<matplotlib.figure.Figure at 0x11b789d10>"
      ]
     },
     "metadata": {},
     "output_type": "display_data"
    }
   ],
   "source": [
    "import matplotlib.pyplot as plt\n",
    "import seaborn as sns\n",
    "%matplotlib inline\n",
    "\n",
    "fig, axs = plt.subplots(1,2,figsize=(16,5))\n",
    "\n",
    "aw_db = aw_db.set_index(pd.DatetimeIndex(aw_db['month']))\n",
    "aw_db.resample('M').sum().plot(ax=axs[0], title=\"Sales by month\");\n",
    "\n",
    "aw_db[\"2014-01\":\"2014-03\"].resample('M').sum().plot(ax=axs[1], title=\"First QTR Sales\");"
   ]
  },
  {
   "cell_type": "markdown",
   "metadata": {
    "slideshow": {
     "slide_type": "slide"
    }
   },
   "source": [
    "## What were our top 20 selling products, and how did the top product sell throughout the year?"
   ]
  },
  {
   "cell_type": "code",
   "execution_count": 59,
   "metadata": {
    "collapsed": false,
    "slideshow": {
     "slide_type": "-"
    }
   },
   "outputs": [
    {
     "data": {
      "image/png": "[encoded data removed]",
      "text/plain": [
       "<matplotlib.figure.Figure at 0x125cd6a10>"
      ]
     },
     "metadata": {},
     "output_type": "display_data"
    }
   ],
   "source": [
    "fig, axs = plt.subplots(1,2,figsize=(16,5))\n",
    "\n",
    "aw_db.groupby(\"name\").sum().sort_values(by=\"total\", ascending = False)[:20].plot(kind=\"bar\", ax=axs[0]);\n",
    "\n",
    "bymonth = aw_db.groupby([\"month\",\"name\"]).sum().reset_index()\n",
    "bymonth = bymonth.set_index(pd.DatetimeIndex(bymonth.month))\n",
    "\n",
    "bymonth[bymonth.name == \"Water Bottle - 30 oz.\"].plot(ax=axs[1]);"
   ]
  },
  {
   "cell_type": "markdown",
   "metadata": {
    "slideshow": {
     "slide_type": "slide"
    }
   },
   "source": [
    "# Beyond analysis \n",
    "Pandas is well integrated with other python libraries, such as sklearn  \n",
    "This makes building machine learning models quick and easy"
   ]
  },
  {
   "cell_type": "code",
   "execution_count": 37,
   "metadata": {
    "collapsed": false,
    "slideshow": {
     "slide_type": "-"
    }
   },
   "outputs": [
    {
     "name": "stdout",
     "output_type": "stream",
     "text": [
      "[ -1.12228445e-15]\n"
     ]
    }
   ],
   "source": [
    "from sklearn import linear_model\n",
    "\n",
    "reg = linear_model.LinearRegression()\n",
    "aw_db['month'] = pd.to_datetime(aw_db['month'])\n",
    "\n",
    "reg.fit(aw_db['month'].values.reshape(-1,1), aw_db['total'])\n",
    "print reg.coef_"
   ]
  },
  {
   "cell_type": "markdown",
   "metadata": {
    "slideshow": {
     "slide_type": "slide"
    }
   },
   "source": [
    "# Questions?\n",
    "@josibake  \n",
    "\n",
    "norfolkdatasci.herokuapp.com  \n",
    "\n",
    "norfolkdatasci.slack.com  "
   ]
  }
 ],
 "metadata": {
  "celltoolbar": "Slideshow",
  "hide_input": false,
  "kernelspec": {
   "display_name": "Python 2",
   "language": "python",
   "name": "python2"
  },
  "language_info": {
   "codemirror_mode": {
    "name": "ipython",
    "version": 2
   },
   "file_extension": ".py",
   "mimetype": "text/x-python",
   "name": "python",
   "nbconvert_exporter": "python",
   "pygments_lexer": "ipython2",
   "version": "2.7.11"
  }
 },
 "nbformat": 4,
 "nbformat_minor": 0
}
