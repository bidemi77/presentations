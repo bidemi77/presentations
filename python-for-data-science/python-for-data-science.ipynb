{
 "cells": [
  {
   "cell_type": "markdown",
   "metadata": {
    "slideshow": {
     "slide_type": "slide"
    }
   },
   "source": [
    "# Python for data science \n",
    "Author: Josiah Baker, Steve Mortimer  \n",
    "Organization: Norfolk Data Science"
   ]
  },
  {
   "cell_type": "markdown",
   "metadata": {
    "slideshow": {
     "slide_type": "slide"
    }
   },
   "source": [
    "# Getting started\n",
    "\n",
    "* Install [Anaconda](https://www.continuum.io/downloads)\n",
    "    - Anaconda is the go to \"data science distribution\" for python \n",
    "    - Comes pre-loaded with numpy, pandas, sklearn and others\n",
    "    - Includes additional tools such as jupyter notebooks\n",
    "\n"
   ]
  },
  {
   "cell_type": "markdown",
   "metadata": {
    "slideshow": {
     "slide_type": "subslide"
    }
   },
   "source": [
    "## Mac OSX\n",
    "If you have brew, go to terminal and run  \n",
    "\n",
    "    brew cask install Caskroom/cask/anaconda\n",
    "You might also need to add anaconda/bin to your `PATH` env variable  \n",
    "This is in the `.bash_profile` file  \n",
    "\n",
    " - Open `~/.bash_profile` in your favorite text editor  \n",
    "       vi ~/.bash_profile    \n",
    " - Add the following line  \n",
    "       export PATH=~/anaconda3/bin:\"&#36;PATH\"\n",
    " - Test your install by runningpython  \n",
    " \n",
    "You should see something like\n",
    "\n",
    "    Python 3.5.2 |Anaconda 4.2.0 (x86_64)| (default, Jul  2 2016, 17:52:12)   \n",
    "If not, confirm that your `.bash_profile` has been updated and and restart terminal"
   ]
  },
  {
   "cell_type": "markdown",
   "metadata": {
    "slideshow": {
     "slide_type": "slide"
    }
   },
   "source": [
    "## Windows\n",
    "Head over to [https://www.continuum.io/downloads](https://www.continuum.io/downloads) and use the GUI downloader  \n",
    "![GUI Installer](install_windows.png)\n",
    "\n",
    "Run the executable and follow the instructions"
   ]
  },
  {
   "cell_type": "markdown",
   "metadata": {
    "slideshow": {
     "slide_type": "slide"
    }
   },
   "source": [
    "# Getting additional packages\n",
    "Use pip\n",
    "\n",
    "### Mac\n",
    "    pip install package\n",
    "    \n",
    "### Windows\n",
    "    do stuff ..."
   ]
  },
  {
   "cell_type": "markdown",
   "metadata": {
    "slideshow": {
     "slide_type": "slide"
    }
   },
   "source": [
    "# Running python scripts\n",
    "\n",
    "Create your first hello world script and run with \n",
    "\n",
    "    python hello_world.py"
   ]
  },
  {
   "cell_type": "markdown",
   "metadata": {
    "slideshow": {
     "slide_type": "slide"
    }
   },
   "source": [
    "# Using the qtconsole\n",
    "\n",
    "Demonstrate how running code can be interactive, but with tab completion.. better than the python shell"
   ]
  },
  {
   "cell_type": "markdown",
   "metadata": {
    "slideshow": {
     "slide_type": "slide"
    }
   },
   "source": [
    "# Jupyter notebooks\n",
    "\n",
    "Running a notebook server, examples"
   ]
  },
  {
   "cell_type": "markdown",
   "metadata": {
    "slideshow": {
     "slide_type": "slide"
    }
   },
   "source": [
    "# Reading data\n",
    "\n",
    "1. Excel example\n",
    "2. Adventureworks postgres example\n",
    "3. API example\n",
    "\n"
   ]
  },
  {
   "cell_type": "markdown",
   "metadata": {
    "slideshow": {
     "slide_type": "slide"
    }
   },
   "source": [
    "# Exploring data\n",
    "\n",
    "1. Basic pandas functionality\n",
    "2. inline plots\n"
   ]
  },
  {
   "cell_type": "markdown",
   "metadata": {
    "slideshow": {
     "slide_type": "slide"
    }
   },
   "source": [
    "# Visualizing \n",
    "\n",
    "1. Seaborn example\n",
    "2. Maybe bokeh, plotly?\n",
    "\n",
    "Examples highlighting visualization tools available for python"
   ]
  },
  {
   "cell_type": "markdown",
   "metadata": {
    "slideshow": {
     "slide_type": "slide"
    }
   },
   "source": [
    "# Analyzing data\n",
    "\n",
    "1. sklearn on pandas example\n"
   ]
  },
  {
   "cell_type": "markdown",
   "metadata": {
    "slideshow": {
     "slide_type": "slide"
    }
   },
   "source": [
    "# Collaborating \n",
    "\n",
    "1. Jupyter on github.com\n",
    "2. output jupyter to html, script, slideshow\n",
    "\n",
    "Demonstrate how the entire analysis can be contained in the notebook"
   ]
  },
  {
   "cell_type": "code",
   "execution_count": null,
   "metadata": {
    "collapsed": true,
    "slideshow": {
     "slide_type": "slide"
    }
   },
   "outputs": [],
   "source": [
    "print \"this is some code\""
   ]
  }
 ],
 "metadata": {
  "celltoolbar": "Slideshow",
  "hide_input": false,
  "kernelspec": {
   "display_name": "Python 2",
   "language": "python",
   "name": "python2"
  },
  "language_info": {
   "codemirror_mode": {
    "name": "ipython",
    "version": 2
   },
   "file_extension": ".py",
   "mimetype": "text/x-python",
   "name": "python",
   "nbconvert_exporter": "python",
   "pygments_lexer": "ipython2",
   "version": "2.7.11"
  }
 },
 "nbformat": 4,
 "nbformat_minor": 0
}
