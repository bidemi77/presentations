{
 "cells": [
  {
   "cell_type": "markdown",
   "metadata": {},
   "source": [
    "# Building Bayes \n",
    "\n",
    "This is a quick run through of making a Naive Bayes Classifier using text data. The goal is to classify a speaker as male or female using famous quotes as training data."
   ]
  },
  {
   "cell_type": "markdown",
   "metadata": {},
   "source": [
    "### Collecting the data\n",
    "\n",
    "To start, I found some quotes on the web: one page of female quotes, one of male. These are in the `men.txt` and `women.txt` files."
   ]
  },
  {
   "cell_type": "code",
   "execution_count": 1,
   "metadata": {
    "collapsed": true
   },
   "outputs": [],
   "source": [
    "# clean the files\n",
    "# remove authors and newlines and output as a blob of text\n",
    "\n",
    "def clean_txt(filename):\n",
    "    with open(filename,'r') as i:\n",
    "        with open(filename.split('.')[0]+'_cleaned.txt','wb') as o:\n",
    "            for line in i.readlines():\n",
    "                if '--' in line:\n",
    "                    next\n",
    "                elif len(line) == 1:\n",
    "                    next\n",
    "                else:\n",
    "                    o.write(line)\n",
    "                    \n",
    "for f in ['men.txt','women.txt']:\n",
    "    clean_txt(f)"
   ]
  },
  {
   "cell_type": "markdown",
   "metadata": {},
   "source": [
    "### Training the model\n",
    "\n",
    "Next, from the text blobs we need to create a dictionary of male and female words and an overall vocabulary list."
   ]
  },
  {
   "cell_type": "code",
   "execution_count": null,
   "metadata": {
    "collapsed": true
   },
   "outputs": [],
   "source": []
  }
 ],
 "metadata": {
  "hide_input": false,
  "kernelspec": {
   "display_name": "Python 2",
   "language": "python",
   "name": "python2"
  },
  "language_info": {
   "codemirror_mode": {
    "name": "ipython",
    "version": 2
   },
   "file_extension": ".py",
   "mimetype": "text/x-python",
   "name": "python",
   "nbconvert_exporter": "python",
   "pygments_lexer": "ipython2",
   "version": "2.7.11"
  }
 },
 "nbformat": 4,
 "nbformat_minor": 0
}
