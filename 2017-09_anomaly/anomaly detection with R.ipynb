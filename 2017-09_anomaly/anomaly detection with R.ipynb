{
 "cells": [
  {
   "cell_type": "markdown",
   "metadata": {
    "slideshow": {
     "slide_type": "slide"
    }
   },
   "source": [
    "# Welcome to Norfolk Data Science\n",
    "\n",
    "<img src=\"https://secure.meetupstatic.com/photos/event/c/f/b/a/highres_452453178.jpeg\">\n",
    "\n",
    "### Anomaly Detection\n",
    "* 2017-09-05\n",
    "* Christopher Brossman"
   ]
  },
  {
   "cell_type": "markdown",
   "metadata": {
    "slideshow": {
     "slide_type": "slide"
    }
   },
   "source": [
    "# General Methods for Anomaly Detection\n",
    "* Some threshold for deviation between expected and observed is surpassed. \n",
    "    * Requires labeled data and need to build model\n",
    "* Completely automated systems which look for deviations\n",
    "    * Time series models (we will cover [twitter's implementation in R](https://github.com/twitter/AnomalyDetection))\n",
    "    * Multivariate models using one-class SVC (have implemented in R & python)"
   ]
  },
  {
   "cell_type": "markdown",
   "metadata": {
    "slideshow": {
     "slide_type": "slide"
    }
   },
   "source": [
    "# Timeseries model using twitter's AnomalyDetection"
   ]
  },
  {
   "cell_type": "code",
   "execution_count": 44,
   "metadata": {
    "slideshow": {
     "slide_type": "slide"
    }
   },
   "outputs": [
    {
     "name": "stderr",
     "output_type": "stream",
     "text": [
      "Parsed with column specification:\n",
      "cols(\n",
      "  Date = col_character(),\n",
      "  year = col_integer(),\n",
      "  month = col_integer(),\n",
      "  day = col_integer(),\n",
      "  hr = col_integer(),\n",
      "  timestamp = col_datetime(format = \"\"),\n",
      "  cr = col_double()\n",
      ")\n"
     ]
    },
    {
     "data": {
      "text/html": [
       "<table>\n",
       "<thead><tr><th scope=col>ds</th><th scope=col>cr_scaled</th></tr></thead>\n",
       "<tbody>\n",
       "\t<tr><td>2017-08-01 00:00:00</td><td>1000               </td></tr>\n",
       "\t<tr><td>2017-08-01 01:00:00</td><td>1000               </td></tr>\n",
       "\t<tr><td>2017-08-01 02:00:00</td><td>1000               </td></tr>\n",
       "\t<tr><td>2017-08-01 03:00:00</td><td>2000               </td></tr>\n",
       "\t<tr><td>2017-08-01 04:00:00</td><td>1000               </td></tr>\n",
       "\t<tr><td>2017-08-01 05:00:00</td><td>1000               </td></tr>\n",
       "</tbody>\n",
       "</table>\n"
      ],
      "text/latex": [
       "\\begin{tabular}{r|ll}\n",
       " ds & cr\\_scaled\\\\\n",
       "\\hline\n",
       "\t 2017-08-01 00:00:00 & 1000               \\\\\n",
       "\t 2017-08-01 01:00:00 & 1000               \\\\\n",
       "\t 2017-08-01 02:00:00 & 1000               \\\\\n",
       "\t 2017-08-01 03:00:00 & 2000               \\\\\n",
       "\t 2017-08-01 04:00:00 & 1000               \\\\\n",
       "\t 2017-08-01 05:00:00 & 1000               \\\\\n",
       "\\end{tabular}\n"
      ],
      "text/markdown": [
       "\n",
       "ds | cr_scaled | \n",
       "|---|---|---|---|---|---|\n",
       "| 2017-08-01 00:00:00 | 1000                | \n",
       "| 2017-08-01 01:00:00 | 1000                | \n",
       "| 2017-08-01 02:00:00 | 1000                | \n",
       "| 2017-08-01 03:00:00 | 2000                | \n",
       "| 2017-08-01 04:00:00 | 1000                | \n",
       "| 2017-08-01 05:00:00 | 1000                | \n",
       "\n",
       "\n"
      ],
      "text/plain": [
       "  ds                  cr_scaled\n",
       "1 2017-08-01 00:00:00 1000     \n",
       "2 2017-08-01 01:00:00 1000     \n",
       "3 2017-08-01 02:00:00 1000     \n",
       "4 2017-08-01 03:00:00 2000     \n",
       "5 2017-08-01 04:00:00 1000     \n",
       "6 2017-08-01 05:00:00 1000     "
      ]
     },
     "metadata": {},
     "output_type": "display_data"
    }
   ],
   "source": [
    "# First read in some data\n",
    "library('tidyverse')\n",
    "cr_hour <- read_csv('crh.csv')\n",
    "cr_hour <- cr_hour %>% \n",
    "  mutate(ds = as.POSIXct(timestamp), cr_scaled = cr*100000) %>% #scaling to better understand expected value later on\n",
    "  filter(month == 8) %>% \n",
    "  select(ds,cr_scaled)\n",
    "head(cr_hour)"
   ]
  },
  {
   "cell_type": "markdown",
   "metadata": {
    "slideshow": {
     "slide_type": "slide"
    }
   },
   "source": [
    "# Lets look at the function\n",
    "\n",
    "```AnomalyDetectionTs(x, max_anoms = 0.1, direction = \"pos\", alpha = 0.05,\n",
    "  only_last = NULL, threshold = \"None\", e_value = FALSE,\n",
    "  longterm = FALSE, piecewise_median_period_weeks = 2, plot = FALSE,\n",
    "  y_log = FALSE, xlabel = \"\", ylabel = \"count\", title = NULL,\n",
    "  verbose = FALSE)```\n",
    "  \n",
    "Arguments\n",
    "* x : Time series as a two column data frame where the first column consists of the timestamps and the second column consists of the observations.\n",
    "* max_anoms: Maximum number of anomalies that S-H-ESD will detect as a percentage of the data.\n",
    "* direction: Directionality of the anomalies to be detected. Options are: 'pos' | 'neg' | 'both'.\n",
    "* alpha: The level of statistical significance with which to accept or reject anomalies.\n",
    "* only_last: Find and report anomalies only within the last day or hr in the time series. NULL | 'day' | 'hr'.\n",
    "* threshold: Only report positive going anoms above the threshold specified. Options are: 'None' | 'med_max' | 'p95' | 'p99'.\n",
    "* e_value:Add an additional column to the anoms output containing the expected value.\n",
    "* longterm: Increase anom detection efficacy for time series that are greater than a month. See Details below.\n",
    "* piecewise_median_period_weeks: The piecewise median time window as described in Vallis, Hochenbaum, and Kejariwal (2014). Defaults to 2.\n",
    "* plot: A flag indicating if a plot with both the time series and the estimated anoms, indicated by circles, should also be returned.\n",
    "* y_log: Apply log scaling to the y-axis. This helps with viewing plots that have extremely large positive anomalies relative to the rest of the data.\n",
    "* xlabel: X-axis label to be added to the output plot.\n",
    "* ylabel: Y-axis label to be added to the output plot.\n",
    "* title: Title for the output plot.\n",
    "* verbose: Enable debug messages"
   ]
  },
  {
   "cell_type": "code",
   "execution_count": 45,
   "metadata": {
    "collapsed": true,
    "slideshow": {
     "slide_type": "slide"
    }
   },
   "outputs": [],
   "source": [
    "library(AnomalyDetection)\n",
    "res = AnomalyDetectionTs(cr_hour, max_anoms=0.02, direction='both', \n",
    "                         plot=TRUE, e_value = TRUE,\n",
    "                         xlabel = 'day', ylabel='Conversion Rate')"
   ]
  },
  {
   "cell_type": "code",
   "execution_count": 46,
   "metadata": {
    "slideshow": {
     "slide_type": "slide"
    }
   },
   "outputs": [
    {
     "data": {
      "text/html": [
       "<table>\n",
       "<thead><tr><th scope=col>timestamp</th><th scope=col>anoms</th><th scope=col>expected_value</th></tr></thead>\n",
       "<tbody>\n",
       "\t<tr><td>2017-08-01 10:00:00</td><td>4000               </td><td>1823               </td></tr>\n",
       "\t<tr><td>2017-08-09 10:00:00</td><td>4000               </td><td>1713               </td></tr>\n",
       "\t<tr><td>2017-08-28 04:00:00</td><td>3000               </td><td> 789               </td></tr>\n",
       "</tbody>\n",
       "</table>\n"
      ],
      "text/latex": [
       "\\begin{tabular}{r|lll}\n",
       " timestamp & anoms & expected\\_value\\\\\n",
       "\\hline\n",
       "\t 2017-08-01 10:00:00 & 4000                & 1823               \\\\\n",
       "\t 2017-08-09 10:00:00 & 4000                & 1713               \\\\\n",
       "\t 2017-08-28 04:00:00 & 3000                &  789               \\\\\n",
       "\\end{tabular}\n"
      ],
      "text/markdown": [
       "\n",
       "timestamp | anoms | expected_value | \n",
       "|---|---|---|\n",
       "| 2017-08-01 10:00:00 | 4000                | 1823                | \n",
       "| 2017-08-09 10:00:00 | 4000                | 1713                | \n",
       "| 2017-08-28 04:00:00 | 3000                |  789                | \n",
       "\n",
       "\n"
      ],
      "text/plain": [
       "  timestamp           anoms expected_value\n",
       "1 2017-08-01 10:00:00 4000  1823          \n",
       "2 2017-08-09 10:00:00 4000  1713          \n",
       "3 2017-08-28 04:00:00 3000   789          "
      ]
     },
     "metadata": {},
     "output_type": "display_data"
    }
   ],
   "source": [
    "res$anoms"
   ]
  },
  {
   "cell_type": "code",
   "execution_count": 62,
   "metadata": {
    "slideshow": {
     "slide_type": "slide"
    }
   },
   "outputs": [
    {
     "data": {},
     "metadata": {},
     "output_type": "display_data"
    },
    {
     "data": {
      "image/png": "[encoded data removed]",
      "text/plain": [
       "plot without title"
      ]
     },
     "metadata": {},
     "output_type": "display_data"
    }
   ],
   "source": [
    "options(repr.plot.width=7, repr.plot.height=4)\n",
    "res$plot"
   ]
  },
  {
   "cell_type": "code",
   "execution_count": 63,
   "metadata": {
    "slideshow": {
     "slide_type": "slide"
    }
   },
   "outputs": [
    {
     "data": {
      "text/plain": [
       "$anoms\n",
       "data frame with 0 columns and 0 rows\n",
       "\n",
       "$plot\n",
       "NULL\n"
      ]
     },
     "metadata": {},
     "output_type": "display_data"
    },
    {
     "data": {
      "image/png": "[encoded data removed]",
      "text/plain": [
       "plot without title"
      ]
     },
     "metadata": {},
     "output_type": "display_data"
    }
   ],
   "source": [
    "#wont always have an anomaly\n",
    "library(AnomalyDetection)\n",
    "res = AnomalyDetectionTs(cr_hour, max_anoms=0.02, direction='both', plot=TRUE, e_value = TRUE,\n",
    "                         xlabel = 'day', ylabel='Conversion Rate',only_last='day')\n",
    "res"
   ]
  },
  {
   "cell_type": "code",
   "execution_count": 64,
   "metadata": {
    "slideshow": {
     "slide_type": "slide"
    }
   },
   "outputs": [
    {
     "name": "stderr",
     "output_type": "stream",
     "text": [
      "Parsed with column specification:\n",
      "cols(\n",
      "  d = col_date(format = \"\"),\n",
      "  cr = col_character()\n",
      ")\n"
     ]
    },
    {
     "data": {
      "text/plain": [
       "$anoms\n",
       "            timestamp    anoms expected_value\n",
       "1 2016-09-10 20:00:00 2332.764           1591\n",
       "2 2016-11-24 19:00:00 4157.531           1420\n",
       "3 2016-11-27 19:00:00 2671.162           1877\n",
       "\n",
       "$plot\n"
      ]
     },
     "metadata": {},
     "output_type": "display_data"
    },
    {
     "data": {
      "image/png": "[encoded data removed]",
      "text/plain": [
       "plot without title"
      ]
     },
     "metadata": {},
     "output_type": "display_data"
    }
   ],
   "source": [
    "#lets see if it can detect a longer time period\n",
    "\n",
    "cr_day <- read_csv('cr.csv')\n",
    "cr_day <- cr_day %>% \n",
    "  mutate(d = as.POSIXct(d), cr = gsub('\\t','',cr)) %>%\n",
    "  mutate(cr_scaled = as.numeric(cr)*100000) %>% \n",
    "  select(d,cr_scaled)\n",
    "\n",
    "library(AnomalyDetection)\n",
    "res = AnomalyDetectionTs(cr_day, max_anoms=0.02, direction='both', plot=TRUE, e_value = TRUE,\n",
    "                         xlabel = 'day', ylabel='Conversion Rate')\n",
    "res"
   ]
  },
  {
   "cell_type": "markdown",
   "metadata": {
    "slideshow": {
     "slide_type": "slide"
    }
   },
   "source": [
    "# Lets checkout a single class SVM for multivariate anomaly prediction"
   ]
  },
  {
   "cell_type": "code",
   "execution_count": 65,
   "metadata": {
    "slideshow": {
     "slide_type": "slide"
    }
   },
   "outputs": [
    {
     "name": "stdout",
     "output_type": "stream",
     "text": [
      "  Sepal.Length Sepal.Width Petal.Length Petal.Width Species SpeciesClass\n",
      "1          5.1         3.5          1.4         0.2  setosa        FALSE\n",
      "2          4.9         3.0          1.4         0.2  setosa        FALSE\n",
      "3          4.7         3.2          1.3         0.2  setosa        FALSE\n",
      "4          4.6         3.1          1.5         0.2  setosa        FALSE\n",
      "5          5.0         3.6          1.4         0.2  setosa        FALSE\n",
      "6          5.4         3.9          1.7         0.4  setosa        FALSE\n",
      "[1] \"\"\n",
      "   Sepal.Length Sepal.Width Petal.Length Petal.Width\n",
      "51          7.0         3.2          4.7         1.4\n",
      "52          6.4         3.2          4.5         1.5\n",
      "54          5.5         2.3          4.0         1.3\n",
      "55          6.5         2.8          4.6         1.5\n",
      "59          6.6         2.9          4.6         1.3\n",
      "60          5.2         2.7          3.9         1.4\n"
     ]
    }
   ],
   "source": [
    "#lets look at the good old iris data set\n",
    "library(e1071);\n",
    "library(caret);\n",
    "library(NLP);\n",
    "library(tm);\n",
    "\n",
    "data(iris)\n",
    "\n",
    "#split to see how well the predictions work\n",
    "iris$SpeciesClass[iris$Species==\"versicolor\"] <- \"TRUE\"\n",
    "iris$SpeciesClass[iris$Species!=\"versicolor\"] <- \"FALSE\"\n",
    "trainPositive<-subset(iris,SpeciesClass==\"TRUE\")\n",
    "testnegative<-subset(iris,SpeciesClass==\"FALSE\")\n",
    "inTrain<-createDataPartition(1:nrow(trainPositive),p=0.6,list=FALSE)\n",
    "\n",
    "#take only true predictors into a single DF\n",
    "trainpredictors<-trainPositive[inTrain,1:4]\n",
    "trainLabels<-trainPositive[inTrain,6]\n",
    "\n",
    "testPositive<-trainPositive[-inTrain,]\n",
    "testPosNeg<-rbind(testPositive,testnegative)\n",
    "\n",
    "testpredictors<-testPosNeg[,1:4]\n",
    "testLabels<-testPosNeg[,6]\n",
    "\n",
    "#see what this looks like\n",
    "print(head(iris))\n",
    "print('')\n",
    "print(head(trainpredictors))"
   ]
  },
  {
   "cell_type": "code",
   "execution_count": 66,
   "metadata": {
    "collapsed": true,
    "slideshow": {
     "slide_type": "slide"
    }
   },
   "outputs": [],
   "source": [
    "#feed in all positive classes. SVM will use this to predict if class is same or not later on\n",
    "\n",
    "svm.model<-svm(trainpredictors,y=NULL,\n",
    "               type='one-classification',\n",
    "               nu=0.10,\n",
    "               scale=TRUE,\n",
    "               kernel=\"radial\")\n",
    "\n",
    "#SVM params\n",
    "# nu - what is the proportion of outliers we expect in the data?\n",
    "# kernel -- type: linear, rbf (non linear function)\n",
    "# gamma - param of the RBF kernel type and controls the influence of individual training samples\n",
    "# this affects the smoothnees of the model. Low gamma has low var & high bias, high gamma is high var, low bias\n",
    "\n",
    "#svm(x, y = NULL, scale = TRUE, type = NULL, kernel =\n",
    "#\"radial\", degree = 3, gamma = if (is.vector(x)) 1 else 1 / ncol(x),\n",
    "#coef0 = 0, cost = 1, nu = 0.5,\n",
    "#class.weights = NULL, cachesize = 40, tolerance = 0.001, epsilon = 0.1,\n",
    "#shrinking = TRUE, cross = 0, probability = FALSE, fitted = TRUE,\n",
    "#..., subset, na.action = na.omit)"
   ]
  },
  {
   "cell_type": "code",
   "execution_count": 69,
   "metadata": {
    "slideshow": {
     "slide_type": "slide"
    }
   },
   "outputs": [
    {
     "data": {
      "text/plain": [
       "Confusion Matrix and Statistics\n",
       "\n",
       "         Reference\n",
       "Predicted FALSE TRUE\n",
       "    FALSE    98    5\n",
       "    TRUE      2   13\n",
       "                                          \n",
       "               Accuracy : 0.9407          \n",
       "                 95% CI : (0.8816, 0.9758)\n",
       "    No Information Rate : 0.8475          \n",
       "    P-Value [Acc > NIR] : 0.001574        \n",
       "                                          \n",
       "                  Kappa : 0.7537          \n",
       " Mcnemar's Test P-Value : 0.449692        \n",
       "                                          \n",
       "            Sensitivity : 0.7222          \n",
       "            Specificity : 0.9800          \n",
       "         Pos Pred Value : 0.8667          \n",
       "         Neg Pred Value : 0.9515          \n",
       "             Prevalence : 0.1525          \n",
       "         Detection Rate : 0.1102          \n",
       "   Detection Prevalence : 0.1271          \n",
       "      Balanced Accuracy : 0.8511          \n",
       "                                          \n",
       "       'Positive' Class : TRUE            \n",
       "                                          "
      ]
     },
     "metadata": {},
     "output_type": "display_data"
    },
    {
     "name": "stdout",
     "output_type": "stream",
     "text": [
      "         Reference\n",
      "Predicted TRUE\n",
      "    FALSE    8\n",
      "    TRUE    24\n",
      "         Reference\n",
      "Predicted FALSE TRUE\n",
      "    FALSE    98    5\n",
      "    TRUE      2   13\n"
     ]
    }
   ],
   "source": [
    "svm.predtrain<-predict(svm.model,trainpredictors)\n",
    "svm.predtest<-predict(svm.model,testpredictors)\n",
    "\n",
    "confTrain<-table(Predicted=svm.predtrain,Reference=trainLabels)\n",
    "confTest<-table(Predicted=svm.predtest,Reference=testLabels)\n",
    "\n",
    "confusionMatrix(confTest,positive='TRUE')\n",
    "\n",
    "\n",
    "print(confTrain)\n",
    "print(confTest)"
   ]
  }
 ],
 "metadata": {
  "celltoolbar": "Slideshow",
  "kernelspec": {
   "display_name": "R",
   "language": "R",
   "name": "ir"
  },
  "language_info": {
   "codemirror_mode": "r",
   "file_extension": ".r",
   "mimetype": "text/x-r-source",
   "name": "R",
   "pygments_lexer": "r",
   "version": "3.4.1"
  }
 },
 "nbformat": 4,
 "nbformat_minor": 2
}
