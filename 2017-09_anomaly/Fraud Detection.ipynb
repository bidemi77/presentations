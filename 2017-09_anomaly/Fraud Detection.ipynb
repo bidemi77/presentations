{
 "cells": [
  {
   "cell_type": "markdown",
   "metadata": {
    "slideshow": {
     "slide_type": "slide"
    }
   },
   "source": [
    "# Python SVC single class fraud detection"
   ]
  },
  {
   "cell_type": "code",
   "execution_count": 5,
   "metadata": {
    "slideshow": {
     "slide_type": "slide"
    }
   },
   "outputs": [
    {
     "data": {
      "text/html": [
       "<div>\n",
       "<style>\n",
       "    .dataframe thead tr:only-child th {\n",
       "        text-align: right;\n",
       "    }\n",
       "\n",
       "    .dataframe thead th {\n",
       "        text-align: left;\n",
       "    }\n",
       "\n",
       "    .dataframe tbody tr th {\n",
       "        vertical-align: top;\n",
       "    }\n",
       "</style>\n",
       "<table border=\"1\" class=\"dataframe\">\n",
       "  <thead>\n",
       "    <tr style=\"text-align: right;\">\n",
       "      <th></th>\n",
       "      <th>duration</th>\n",
       "      <th>src_bytes</th>\n",
       "      <th>dst_bytes</th>\n",
       "      <th>label</th>\n",
       "    </tr>\n",
       "  </thead>\n",
       "  <tbody>\n",
       "    <tr>\n",
       "      <th>0</th>\n",
       "      <td>0</td>\n",
       "      <td>181</td>\n",
       "      <td>5450</td>\n",
       "      <td>normal.</td>\n",
       "    </tr>\n",
       "    <tr>\n",
       "      <th>1</th>\n",
       "      <td>0</td>\n",
       "      <td>239</td>\n",
       "      <td>486</td>\n",
       "      <td>normal.</td>\n",
       "    </tr>\n",
       "    <tr>\n",
       "      <th>2</th>\n",
       "      <td>0</td>\n",
       "      <td>235</td>\n",
       "      <td>1337</td>\n",
       "      <td>normal.</td>\n",
       "    </tr>\n",
       "    <tr>\n",
       "      <th>3</th>\n",
       "      <td>0</td>\n",
       "      <td>219</td>\n",
       "      <td>1337</td>\n",
       "      <td>normal.</td>\n",
       "    </tr>\n",
       "    <tr>\n",
       "      <th>4</th>\n",
       "      <td>0</td>\n",
       "      <td>217</td>\n",
       "      <td>2032</td>\n",
       "      <td>normal.</td>\n",
       "    </tr>\n",
       "  </tbody>\n",
       "</table>\n",
       "</div>"
      ],
      "text/plain": [
       "   duration  src_bytes  dst_bytes    label\n",
       "0         0        181       5450  normal.\n",
       "1         0        239        486  normal.\n",
       "2         0        235       1337  normal.\n",
       "3         0        219       1337  normal.\n",
       "4         0        217       2032  normal."
      ]
     },
     "execution_count": 5,
     "metadata": {},
     "output_type": "execute_result"
    },
    {
     "data": {
      "image/png": "[encoded data removed]",
      "text/plain": [
       "<matplotlib.figure.Figure at 0x24340c492b0>"
      ]
     },
     "metadata": {},
     "output_type": "display_data"
    }
   ],
   "source": [
    "#https://thisdata.com/blog/unsupervised-machine-learning-with-one-class-support-vector-machines/\n",
    "%matplotlib inline\n",
    "\n",
    "import numpy as np  \n",
    "import pandas as pd  \n",
    "from sklearn import utils  \n",
    "import matplotlib\n",
    "\n",
    "col = ['duration', 'protocol_type', 'service', 'flag', 'src_bytes', 'dst_bytes', 'land', 'wrong_fragment', 'urgent', \n",
    "'hot', 'num_failed_logins', 'logged_in', 'num_compromised', 'root_shell', 'su_attempted', 'num_root', 'num_file_creations',\n",
    " 'num_shells', 'num_access_files', 'num_outbound_cmds', 'is_host_login', 'is_guest_login', 'count', 'srv_count', 'serror_rate', \n",
    " 'srv_serror_rate', 'rerror_rate', 'srv_rerror_rate', 'same_srv_rate', 'diff_srv_rate', 'srv_diff_host_rate', 'dst_host_count', \n",
    " 'dst_host_srv_count', 'dst_host_same_srv_rate', 'dst_host_diff_srv_rate', 'dst_host_same_src_port_rate', 'dst_host_srv_diff_host_rate', \n",
    " 'dst_host_serror_rate', 'dst_host_srv_serror_rate', 'dst_host_rerror_rate', 'dst_host_srv_rerror_rate','label']\n",
    "\n",
    "data = pd.read_csv('http://kdd.ics.uci.edu/databases/kddcup99/kddcup.data_10_percent.gz', names = col)\n",
    "\n",
    "# extract just the logged-in HTTP accesses from the data\n",
    "data = data[data['service'] == \"http\"]  \n",
    "data = data[data[\"logged_in\"] == 1]\n",
    "data.label.value_counts().plot(kind='bar')  \n",
    "\n",
    "# the full dataset contains features for SMTP, NDP, ICMP, etc.\n",
    "# here we'll grab just the relevant features for HTTP.\n",
    "relevant_features = [  \n",
    "    \"duration\",\n",
    "    \"src_bytes\",\n",
    "    \"dst_bytes\",\n",
    "    \"label\"\n",
    "]\n",
    "\n",
    "# replace the data with a subset containing only the relevant features\n",
    "data = data[relevant_features]\n",
    "data.head()"
   ]
  },
  {
   "cell_type": "code",
   "execution_count": 6,
   "metadata": {
    "slideshow": {
     "slide_type": "slide"
    }
   },
   "outputs": [
    {
     "data": {
      "text/plain": [
       "0    1.0\n",
       "1    1.0\n",
       "2    1.0\n",
       "3    1.0\n",
       "4    1.0\n",
       "Name: attack, dtype: float64"
      ]
     },
     "execution_count": 6,
     "metadata": {},
     "output_type": "execute_result"
    }
   ],
   "source": [
    "\n",
    "# normalise the data - this leads to better accuracy and reduces numerical instability in\n",
    "# the SVM implementation\n",
    "data[\"duration\"] = np.log((data[\"duration\"] + 0.1).astype(float))  \n",
    "data[\"src_bytes\"] = np.log((data[\"src_bytes\"] + 0.1).astype(float))  \n",
    "data[\"dst_bytes\"] = np.log((data[\"dst_bytes\"] + 0.1).astype(float))  \n",
    "\n",
    "# we're using a one-class SVM, so we need.. a single class. the dataset 'label'\n",
    "# column contains multiple different categories of attacks, so to make use of \n",
    "# this data in a one-class system we need to convert the attacks into\n",
    "# class 1 (normal) and class -1 (attack)\n",
    "data.loc[data['label'] == \"normal.\", \"attack\"] = 1  \n",
    "data.loc[data['label'] != \"normal.\", \"attack\"] = -1\n",
    "\n",
    "# grab out the attack value as the target for training and testing. since we're\n",
    "# only selecting a single column from the `data` dataframe, we'll just get a\n",
    "# series, not a new dataframe\n",
    "target = data['attack']\n",
    "\n",
    "target.head()\n"
   ]
  },
  {
   "cell_type": "code",
   "execution_count": 7,
   "metadata": {
    "slideshow": {
     "slide_type": "slide"
    }
   },
   "outputs": [
    {
     "name": "stdout",
     "output_type": "stream",
     "text": [
      "outliers.shape (2209,)\n",
      "outlier fraction 0.03761600681140911\n",
      "(58725, 3)\n"
     ]
    },
    {
     "name": "stderr",
     "output_type": "stream",
     "text": [
      "C:\\ProgramData\\Anaconda3\\lib\\site-packages\\sklearn\\model_selection\\_split.py:2010: FutureWarning: From version 0.21, test_size will always complement train_size unless both are specified.\n",
      "  FutureWarning)\n"
     ]
    },
    {
     "data": {
      "text/plain": [
       "(46980, 3)"
      ]
     },
     "execution_count": 7,
     "metadata": {},
     "output_type": "execute_result"
    }
   ],
   "source": [
    "\n",
    "# find the proportion of outliers we expect (aka where `attack == -1`). because \n",
    "# target is a series, we just compare against itself rather than a column.\n",
    "outliers = target[target == -1]  \n",
    "print(\"outliers.shape\", outliers.shape)  \n",
    "print(\"outlier fraction\", outliers.shape[0]/target.shape[0])\n",
    "\n",
    "# drop label columns from the dataframe. we're doing this so we can do \n",
    "# unsupervised training with unlabelled data. we've already copied the label\n",
    "# out into the target series so we can compare against it later.\n",
    "data.drop([\"label\", \"attack\"], axis=1, inplace=True)\n",
    "\n",
    "# check the shape for sanity checking.\n",
    "print(data.shape)\n",
    "\n",
    "\n",
    "#split data\n",
    "from sklearn.model_selection import train_test_split  \n",
    "train_data, test_data, train_target, test_target = train_test_split(data, target, train_size = 0.8)  \n",
    "train_data.shape \n",
    "\n"
   ]
  },
  {
   "cell_type": "code",
   "execution_count": 8,
   "metadata": {
    "slideshow": {
     "slide_type": "slide"
    }
   },
   "outputs": [
    {
     "name": "stdout",
     "output_type": "stream",
     "text": [
      "nu 0.03761600681140911\n"
     ]
    },
    {
     "data": {
      "text/plain": [
       "OneClassSVM(cache_size=200, coef0=0.0, degree=3, gamma=5e-05, kernel='rbf',\n",
       "      max_iter=-1, nu=0.03761600681140911, random_state=None,\n",
       "      shrinking=True, tol=0.001, verbose=False)"
      ]
     },
     "execution_count": 8,
     "metadata": {},
     "output_type": "execute_result"
    }
   ],
   "source": [
    "\n",
    "#SVM params\n",
    "# nu - what is the proportion of outliers we expect in the data\n",
    "# kernel -- type: linear, rbf\n",
    "#gamma - param of the RBF kernel type and controls the influence of individual training samples\n",
    "# this affects the smoothnees of the model. Low has low var, high bias, high is high var, low bias\n",
    "\n",
    "from sklearn import svm\n",
    "\n",
    "# set nu (which should be the proportion of outliers in our dataset)\n",
    "nu = outliers.shape[0] / target.shape[0]  \n",
    "print(\"nu\", nu)\n",
    "\n",
    "model = svm.OneClassSVM(nu=nu, kernel='rbf', gamma=0.00005)  \n",
    "model.fit(train_data)"
   ]
  },
  {
   "cell_type": "code",
   "execution_count": 11,
   "metadata": {
    "slideshow": {
     "slide_type": "slide"
    }
   },
   "outputs": [
    {
     "name": "stdout",
     "output_type": "stream",
     "text": [
      "training accuracy:  0.940655598127\n",
      "training precision:  0.961500773033\n",
      "training recall:  0.977421140011\n",
      "training f1:  0.969395595952\n",
      "training area under curve (auc):  0.498959877485\n",
      "\n",
      "\n",
      "test accuracy:  0.947296722009\n",
      "test precision:  0.965607087024\n",
      "test recall:  0.980336830967\n",
      "test f1:  0.972916210895\n",
      "test area under curve (auc):  0.500069405583\n"
     ]
    }
   ],
   "source": [
    "#evaluate model for training set\n",
    "from sklearn import metrics  \n",
    "preds = model.predict(train_data)  \n",
    "targs = train_target\n",
    "\n",
    "print(\"training accuracy: \", metrics.accuracy_score(targs, preds))  \n",
    "print(\"training precision: \", metrics.precision_score(targs, preds))  \n",
    "print(\"training recall: \", metrics.recall_score(targs, preds))  \n",
    "print(\"training f1: \", metrics.f1_score(targs, preds))  \n",
    "print(\"training area under curve (auc): \", metrics.roc_auc_score(targs, preds))\n",
    "\n",
    "print()\n",
    "print()\n",
    "\n",
    "#evaluate model for test set\n",
    "preds = model.predict(test_data)  \n",
    "targs = test_target\n",
    "\n",
    "print(\"test accuracy: \", metrics.accuracy_score(targs, preds))  \n",
    "print(\"test precision: \", metrics.precision_score(targs, preds))  \n",
    "print(\"test recall: \", metrics.recall_score(targs, preds))  \n",
    "print(\"test f1: \", metrics.f1_score(targs, preds))  \n",
    "print(\"test area under curve (auc): \", metrics.roc_auc_score(targs, preds))  "
   ]
  }
 ],
 "metadata": {
  "celltoolbar": "Slideshow",
  "kernelspec": {
   "display_name": "Python 3",
   "language": "python",
   "name": "python3"
  },
  "language_info": {
   "codemirror_mode": {
    "name": "ipython",
    "version": 3
   },
   "file_extension": ".py",
   "mimetype": "text/x-python",
   "name": "python",
   "nbconvert_exporter": "python",
   "pygments_lexer": "ipython3",
   "version": "3.5.4"
  }
 },
 "nbformat": 4,
 "nbformat_minor": 2
}
